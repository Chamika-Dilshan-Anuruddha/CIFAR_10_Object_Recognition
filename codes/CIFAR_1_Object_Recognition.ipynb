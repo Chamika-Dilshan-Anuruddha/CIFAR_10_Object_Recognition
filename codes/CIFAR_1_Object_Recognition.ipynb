{
 "cells": [
  {
   "cell_type": "code",
   "execution_count": null,
   "id": "f13d02b9",
   "metadata": {},
   "outputs": [],
   "source": [
    "import pandas as pd \n",
    "import numpy as np\n",
    "import matplotlib.pyplot as plt\n",
    "from PIL import Image\n",
    "import matplotlib.image as mping\n",
    "from sklearn.model_selection import train_test_split\n",
    "import os"
   ]
  },
  {
   "cell_type": "markdown",
   "id": "603b9c8a",
   "metadata": {},
   "source": [
    "## Understand the dataset"
   ]
  },
  {
   "cell_type": "code",
   "execution_count": null,
   "id": "a5bb8915",
   "metadata": {},
   "outputs": [],
   "source": [
    "# get image names as a list\n",
    "\n",
    "filenames = os.listdir(\"C:\\\\Users\\\\Anuruddha\\\\Desktop\\\\ML_projects\\\\30.CIFAR_1_Object_Recognition\\\\dataset\\\\train\")"
   ]
  },
  {
   "cell_type": "code",
   "execution_count": null,
   "id": "ed373695",
   "metadata": {},
   "outputs": [],
   "source": [
    "len(filenames)"
   ]
  },
  {
   "cell_type": "code",
   "execution_count": null,
   "id": "2069cb1f",
   "metadata": {},
   "outputs": [],
   "source": [
    "print(filenames[0:5]) #first five image names"
   ]
  },
  {
   "cell_type": "code",
   "execution_count": null,
   "id": "7dce1299",
   "metadata": {},
   "outputs": [],
   "source": [
    "print(filenames[-5:]) # last five image names"
   ]
  },
  {
   "cell_type": "code",
   "execution_count": null,
   "id": "78ce25dd",
   "metadata": {},
   "outputs": [],
   "source": [
    "label_df = pd.read_csv(\"C:\\\\Users\\\\Anuruddha\\\\Desktop\\\\ML_projects\\\\30.CIFAR_1_Object_Recognition\\\\dataset\\\\trainLabels.csv\") # label table as pandas DF"
   ]
  },
  {
   "cell_type": "code",
   "execution_count": null,
   "id": "c6c03456",
   "metadata": {},
   "outputs": [],
   "source": [
    "label_df.shape  # here label data are not containing the order of images in traing folder"
   ]
  },
  {
   "cell_type": "code",
   "execution_count": null,
   "id": "8f92412f",
   "metadata": {},
   "outputs": [],
   "source": [
    "label_df.head()"
   ]
  },
  {
   "cell_type": "code",
   "execution_count": null,
   "id": "8991ff0a",
   "metadata": {},
   "outputs": [],
   "source": [
    "label_df.tail()"
   ]
  },
  {
   "cell_type": "code",
   "execution_count": null,
   "id": "20174799",
   "metadata": {
    "scrolled": true
   },
   "outputs": [],
   "source": [
    "label_df['label'].value_counts()"
   ]
  },
  {
   "cell_type": "code",
   "execution_count": null,
   "id": "b375359a",
   "metadata": {},
   "outputs": [],
   "source": [
    "# display sample image in dataset\n",
    "img = plt.imread(\"C:\\\\Users\\\\Anuruddha\\\\Desktop\\\\ML_projects\\\\30.CIFAR_1_Object_Recognition\\\\dataset\\\\train\\\\10.png\")\n",
    "plt.imshow(img)"
   ]
  },
  {
   "cell_type": "markdown",
   "id": "be22796c",
   "metadata": {},
   "source": [
    "## Data Preprocessing"
   ]
  },
  {
   "cell_type": "markdown",
   "id": "65c3beb1",
   "metadata": {},
   "source": [
    "### Label encoding"
   ]
  },
  {
   "cell_type": "code",
   "execution_count": null,
   "id": "815fb5bf",
   "metadata": {},
   "outputs": [],
   "source": [
    "labels_dictionary = {'airplane':0, 'automobile':1, 'bird':2, 'cat':3, 'deer':4,\n",
    "                    'dog':5, 'frog':6, 'horse':7, 'ship':8, 'truck':9}\n",
    "\n",
    "labels = [labels_dictionary[i] for i in label_df['label']] # create label vector"
   ]
  },
  {
   "cell_type": "code",
   "execution_count": null,
   "id": "9635b003",
   "metadata": {},
   "outputs": [],
   "source": [
    "#labels"
   ]
  },
  {
   "cell_type": "code",
   "execution_count": null,
   "id": "6e8822bd",
   "metadata": {},
   "outputs": [],
   "source": [
    "list_id = list(label_df['id'])  # label data set id order"
   ]
  },
  {
   "cell_type": "code",
   "execution_count": null,
   "id": "6900ae63",
   "metadata": {},
   "outputs": [],
   "source": [
    "list_id"
   ]
  },
  {
   "cell_type": "code",
   "execution_count": null,
   "id": "a931a7c4",
   "metadata": {},
   "outputs": [],
   "source": [
    "# THIS WILL TAKE LARGE AMOUNT OF TIME\n",
    "\n",
    "# we need to read the data in order of label data set\n",
    "\n",
    "# convert images as numpy arrays in order of labels\n",
    "\n",
    "train_data_folder = \"C:\\\\Users\\\\Anuruddha\\\\Desktop\\\\ML_projects\\\\30.CIFAR_1_Object_Recognition\\\\dataset\\\\train\\\\\"\n",
    "\n",
    "data = []\n",
    "\n",
    "for id in list_id:\n",
    "    image_path = train_data_folder + str(id) + '.png' # get image path\n",
    "    image = Image.open(image_path)  # read images\n",
    "    image = np.array(image) # convert as numpy array\n",
    "    data.append(image)"
   ]
  },
  {
   "cell_type": "code",
   "execution_count": null,
   "id": "e9cdaa3c",
   "metadata": {},
   "outputs": [],
   "source": [
    "len(data)"
   ]
  },
  {
   "cell_type": "code",
   "execution_count": null,
   "id": "2a4ddc2b",
   "metadata": {},
   "outputs": [],
   "source": [
    "type(data[0])"
   ]
  },
  {
   "cell_type": "code",
   "execution_count": null,
   "id": "77ba7027",
   "metadata": {},
   "outputs": [],
   "source": [
    "data[0].shape"
   ]
  },
  {
   "cell_type": "markdown",
   "id": "0d727d61",
   "metadata": {},
   "source": [
    "## Split data "
   ]
  },
  {
   "cell_type": "code",
   "execution_count": null,
   "id": "4e9dc783",
   "metadata": {},
   "outputs": [],
   "source": [
    "X = np.array(data)\n",
    "Y = np.array(labels)"
   ]
  },
  {
   "cell_type": "code",
   "execution_count": null,
   "id": "d24b2da9",
   "metadata": {},
   "outputs": [],
   "source": [
    "print(X.shape)\n",
    "print(Y.shape)"
   ]
  },
  {
   "cell_type": "code",
   "execution_count": null,
   "id": "d394b430",
   "metadata": {},
   "outputs": [],
   "source": [
    "X_train, X_test, Y_train, Y_test = train_test_split(X, Y, test_size=0.2, random_state=2)"
   ]
  },
  {
   "cell_type": "code",
   "execution_count": null,
   "id": "67d5a9bb",
   "metadata": {},
   "outputs": [],
   "source": [
    "print(X.shape, X_train.shape, X_test.shape)"
   ]
  },
  {
   "cell_type": "code",
   "execution_count": null,
   "id": "0b3b48ed",
   "metadata": {},
   "outputs": [],
   "source": [
    "# noemalize dat between 0 and 1\n",
    "\n",
    "X_train_scaled= X_train/255\n",
    "X_test_scaled = X_test/255"
   ]
  },
  {
   "cell_type": "markdown",
   "id": "89a6eb8a",
   "metadata": {},
   "source": [
    "## Model "
   ]
  },
  {
   "cell_type": "code",
   "execution_count": null,
   "id": "e3f9f801",
   "metadata": {},
   "outputs": [],
   "source": [
    "import tensorflow as tf\n",
    "from tensorflow import keras"
   ]
  },
  {
   "cell_type": "code",
   "execution_count": null,
   "id": "70f5c569",
   "metadata": {},
   "outputs": [],
   "source": [
    "num_of_class = 10\n",
    "\n",
    "model = keras.Sequential([\n",
    "    \n",
    "    keras.layers.Flatten(input_shape=(32,32,3)),\n",
    "    keras.layers.Dense(64, activation='relu'),\n",
    "    keras.layers.Dense(num_of_class, activation='softmax')\n",
    "    \n",
    "])"
   ]
  },
  {
   "cell_type": "code",
   "execution_count": null,
   "id": "9de0ad2d",
   "metadata": {},
   "outputs": [],
   "source": [
    "# compile\n",
    "\n",
    "model.compile( optimizer='adam',\n",
    "             loss='sparse_categorical_crossentropy',\n",
    "             metrics=['acc'])    \n"
   ]
  },
  {
   "cell_type": "code",
   "execution_count": null,
   "id": "b6709da4",
   "metadata": {},
   "outputs": [],
   "source": [
    "model.fit(X_train_scaled, Y_train, validation_split=0.1, epochs=5)"
   ]
  },
  {
   "cell_type": "markdown",
   "id": "a3b552fc",
   "metadata": {},
   "source": [
    "## Model2 "
   ]
  },
  {
   "cell_type": "code",
   "execution_count": null,
   "id": "35e57dd2",
   "metadata": {},
   "outputs": [],
   "source": [
    "from tensorflow.keras import Sequential, models, layers\n",
    "from tensorflow.keras.layers import Dense, Dropout, Flatten\n",
    "from tensorflow.keras.layers import BatchNormalization\n",
    "from tensorflow.keras.models import load_model\n",
    "from tensorflow.keras.models import Model\n",
    "from tensorflow.keras.applications.resnet50 import ResNet50\n",
    "from tensorflow.keras import optimizers"
   ]
  },
  {
   "cell_type": "code",
   "execution_count": null,
   "id": "02609dd0",
   "metadata": {},
   "outputs": [],
   "source": [
    "# import the pre-trained model\n",
    "\n",
    "cnn_base = ResNet50(weights='imagenet', include_top=False, input_shape=(256,256,3))\n",
    "# above weights='imagenet' mean import the ResNet50's weights those are trained using imagenet dataset\n",
    "# include_top=False means drop the output layer"
   ]
  },
  {
   "cell_type": "code",
   "execution_count": null,
   "id": "f109c63b",
   "metadata": {
    "scrolled": true
   },
   "outputs": [],
   "source": [
    "# information of the cnn model\n",
    "cnn_base.summary()"
   ]
  },
  {
   "cell_type": "code",
   "execution_count": null,
   "id": "f5afa75a",
   "metadata": {},
   "outputs": [],
   "source": [
    "model = models.Sequential()\n",
    "model.add(layers.UpSampling2D((2,2))) # 32 shape ---.> 32*2= 64\n",
    "model.add(layers.UpSampling2D((2,2))) # 64 ---> 64*2 = 128\n",
    "model.add(layers.UpSampling2D((2,2))) # 128 ---> 128*2 = 256 shape\n",
    "model.add(cnn_base)\n",
    "model.add(layers.Flatten())\n",
    "model.add(layers.BatchNormalization())  # all values are smae range (image values and all intermediate values normalized)\n",
    "model.add(layers.Dense(128,activation='relu'))\n",
    "model.add(Dropout(0.5))  # prevent overfitting error\n",
    "model.add(layers.BatchNormalization())\n",
    "model.add(layers.Dense(64,activation='relu'))\n",
    "model.add(Dropout(0.5))\n",
    "model.add(layers.BatchNormalization())\n",
    "model.add(layers.Dense(num_of_class,activation='softmax'))\n"
   ]
  },
  {
   "cell_type": "code",
   "execution_count": null,
   "id": "8f36144e",
   "metadata": {},
   "outputs": [],
   "source": [
    "model.compile(optimizer=optimizers.RMSprop(learning_rate=2e-5),\n",
    "             loss='sparse_categorical_crossentropy',\n",
    "             metrics=['acc'])"
   ]
  },
  {
   "cell_type": "code",
   "execution_count": null,
   "id": "f48fa3ba",
   "metadata": {},
   "outputs": [],
   "source": [
    "# taken large time\n",
    "\n",
    "history = model.fit(X_train_scaled, Y_train, validation_split=0.1, epochs=1)"
   ]
  },
  {
   "cell_type": "markdown",
   "id": "a34da79b",
   "metadata": {},
   "source": [
    "### Evaluate the model"
   ]
  },
  {
   "cell_type": "code",
   "execution_count": null,
   "id": "f586d764",
   "metadata": {},
   "outputs": [],
   "source": [
    "loss,accuracy = model.evaluate(X_test_scaled, Y_test)\n",
    "print(\"Testing accuracy: \", accuracy)"
   ]
  },
  {
   "cell_type": "code",
   "execution_count": null,
   "id": "493826c8",
   "metadata": {},
   "outputs": [],
   "source": [
    "h = history\n",
    "\n",
    "# plot the loss vlues\n",
    "\n",
    "plt.plot(h.histroy['loss'], label='train loss')\n",
    "plt.plot(h.histroy['val_loss'], label='validation loss')\n",
    "plt.legend()\n",
    "plt.show()\n",
    "\n",
    "# plot the acc vlues\n",
    "\n",
    "plt.plot(h.histroy['acc'], label='train acc')\n",
    "plt.plot(h.histroy['val_acc'], label='validation acc')\n",
    "plt.legend()\n",
    "plt.show()"
   ]
  }
 ],
 "metadata": {
  "kernelspec": {
   "display_name": "Python 3 (ipykernel)",
   "language": "python",
   "name": "python3"
  },
  "language_info": {
   "codemirror_mode": {
    "name": "ipython",
    "version": 3
   },
   "file_extension": ".py",
   "mimetype": "text/x-python",
   "name": "python",
   "nbconvert_exporter": "python",
   "pygments_lexer": "ipython3",
   "version": "3.10.9"
  }
 },
 "nbformat": 4,
 "nbformat_minor": 5
}
